{
 "cells": [
  {
   "cell_type": "code",
   "execution_count": 1,
   "id": "79dbc096",
   "metadata": {},
   "outputs": [],
   "source": [
    "import numpy as np\n",
    "import pandas as pd\n",
    "\n",
    "\n",
    "from analyse_src.basic_data_inspection import DataInspector\n",
    "from analyse_src.missing_values_analysis import SimpleMissingValuesAnalyzer\n",
    "from analyse_src.univariate_analysis import UniVariateAnalyzer\n",
    "from analyse_src.bivariate_analysis import BiVariateAnalyzer\n",
    "from analyse_src.multivariate_analysis import SimpleMultiVariateAnalyzer\n",
    "\n",
    "#set display options for better readiability\n",
    "pd.set_option('dispaly.max_columns',None)\n",
    "pd.set_option('dispaly.max_rows',100)\n"
   ]
  },
  {
   "cell_type": "code",
   "execution_count": 4,
   "id": "385830e6",
   "metadata": {},
   "outputs": [],
   "source": [
    "#load the data\n",
    "#assuming you have already extracted data into the 'extracted_data\" folder\n",
    "data_path='C:/Users/Keerthi/Downloads/prices-predictor-system/prices-predictor-system/extracted_data/AmesHousing.csv'\n",
    "df=pd.read_csv(data_path)\n"
   ]
  },
  {
   "cell_type": "code",
   "execution_count": 8,
   "id": "c48c775a",
   "metadata": {},
   "outputs": [
    {
     "ename": "NameError",
     "evalue": "name 'DataInspector' is not defined",
     "output_type": "error",
     "traceback": [
      "\u001b[1;31m---------------------------------------------------------------------------\u001b[0m",
      "\u001b[1;31mNameError\u001b[0m                                 Traceback (most recent call last)",
      "Cell \u001b[1;32mIn[8], line 4\u001b[0m\n\u001b[0;32m      1\u001b[0m \u001b[38;5;66;03m#step 1:Basic Data inspection\u001b[39;00m\n\u001b[0;32m      2\u001b[0m \u001b[38;5;66;03m#-------------------------------\u001b[39;00m\n\u001b[0;32m      3\u001b[0m \u001b[38;5;66;03m#initialize the data inspector with a strategy for data types inspection\u001b[39;00m\n\u001b[1;32m----> 4\u001b[0m data_inspcetor\u001b[38;5;241m=\u001b[39mDataInspector(DataTypesInspectionStrategy())\n\u001b[0;32m      5\u001b[0m data_inspector\u001b[38;5;241m.\u001b[39mexecute_inspection(df)\n",
      "\u001b[1;31mNameError\u001b[0m: name 'DataInspector' is not defined"
     ]
    }
   ],
   "source": [
    "#step 1:Basic Data inspection\n",
    "#-------------------------------\n",
    "#initialize the data inspector with a strategy for data types inspection\n",
    "data_inspcetor=DataInspector(DataTypesInspectionStrategy())\n",
    "data_inspector.execute_inspection(df)"
   ]
  },
  {
   "cell_type": "code",
   "execution_count": null,
   "id": "59070286",
   "metadata": {},
   "outputs": [],
   "source": []
  },
  {
   "cell_type": "code",
   "execution_count": null,
   "id": "f420d4d0",
   "metadata": {},
   "outputs": [],
   "source": []
  }
 ],
 "metadata": {
  "kernelspec": {
   "display_name": "Python 3 (ipykernel)",
   "language": "python",
   "name": "python3"
  },
  "language_info": {
   "codemirror_mode": {
    "name": "ipython",
    "version": 3
   },
   "file_extension": ".py",
   "mimetype": "text/x-python",
   "name": "python",
   "nbconvert_exporter": "python",
   "pygments_lexer": "ipython3",
   "version": "3.11.5"
  }
 },
 "nbformat": 4,
 "nbformat_minor": 5
}
